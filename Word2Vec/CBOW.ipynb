{
 "cells": [
  {
   "cell_type": "code",
   "execution_count": 25,
   "id": "0a1776e7-4baf-4f20-bcfb-2a6e29de17e4",
   "metadata": {},
   "outputs": [],
   "source": [
    "import torch\n",
    "import torch.nn as nn\n",
    "import torch.optim as optim\n",
    "import numpy as np\n",
    "import matplotlib.pyplot as plt\n",
    "import re\n",
    "import collections\n",
    "\n",
    "# 导入所需的库：PyTorch核心、神经网络模块、优化器、NumPy和Counter\n",
    "def read_txt_file(file_path):\n",
    "    with open(file_path, 'r', encoding='utf-8') as file:\n",
    "        lines = file.readlines()\n",
    "    return [re.sub('[^A-Za-z]+', ' ', line).strip().lower() for line in lines]\n",
    "text = read_txt_file('./timemachine.txt')"
   ]
  },
  {
   "cell_type": "code",
   "execution_count": 24,
   "id": "a9ae831d",
   "metadata": {},
   "outputs": [
    {
     "name": "stdout",
     "output_type": "stream",
     "text": [
      "# 文本总行数: 3617\n",
      "project gutenberg s the time machine by h g herbert george wells\n"
     ]
    }
   ],
   "source": [
    "print(f'# 文本总行数: {len(text)}')\n",
    "print(text[0])"
   ]
  },
  {
   "cell_type": "code",
   "execution_count": 41,
   "id": "ac1f7075",
   "metadata": {},
   "outputs": [],
   "source": [
    "def tokenize(lines, token='word'):\n",
    "  if token == 'word':\n",
    "    return [word for line in lines for word in line.split()]\n",
    "  elif token == 'char':\n",
    "    return [list(line) for line in lines]\n",
    "  else:\n",
    "    raise ValueError('Unknown token type: {}'.format(token))"
   ]
  },
  {
   "cell_type": "code",
   "execution_count": 28,
   "id": "ae6eb4ef",
   "metadata": {},
   "outputs": [],
   "source": [
    "def count_corpus(tokens):\n",
    "  if len(tokens) == 0 or isinstance(tokens[0], list):\n",
    "    tokens = [token for line in tokens for token in line]\n",
    "  return collections.Counter(tokens)\n",
    "\n",
    "\n",
    "class Vocab: #@save\n",
    "  \"\"\"文本词表\"\"\"\n",
    "  def __init__(self, tokens=None, min_freq=0, reserved_tokens=None):\n",
    "    if tokens is None:\n",
    "      tokens = []\n",
    "    if reserved_tokens is None:\n",
    "      reserved_tokens = []\n",
    "    # 按出现频率排序\n",
    "    counter = count_corpus(tokens)\n",
    "    self._token_freqs = sorted(counter.items(), key=lambda x: x[1], reverse=True)\n",
    "\n",
    "    # 未知词元的索引为0\n",
    "    self.idx_to_token = ['<unk>'] + reserved_tokens\n",
    "    self.token_to_idx = {token: idx for idx, token in enumerate(self.idx_to_token)}\n",
    "\n",
    "    for token, freq in self._token_freqs:\n",
    "      if freq < min_freq:\n",
    "        break\n",
    "      if token not in self.token_to_idx:\n",
    "        self.idx_to_token.append(token)\n",
    "        self.token_to_idx[token] = len(self.idx_to_token) - 1\n",
    "\n",
    "  def __len__(self):\n",
    "    return len(self.idx_to_token)\n",
    "\n",
    "  def __getitem__(self, tokens):\n",
    "    if not isinstance(tokens, (list, tuple)):\n",
    "      return self.token_to_idx.get(tokens, self.unk)\n",
    "    return [self.__getitem__(token) for token in tokens]\n",
    "\n",
    "  def to_tokens(self, indices):\n",
    "    if not isinstance(indices, (list, tuple)):\n",
    "      return self.idx_to_token[indices]\n",
    "    return [self.idx_to_token[index] for index in indices]\n",
    "  \n",
    "  @property\n",
    "  def unk(self):  # 未知词元的索引为0\n",
    "    return 0\n",
    "  \n",
    "  @property\n",
    "  def token_freqs(self):\n",
    "    return self._token_freqs"
   ]
  },
  {
   "cell_type": "code",
   "execution_count": 42,
   "id": "962e9ccd",
   "metadata": {},
   "outputs": [],
   "source": [
    "words = tokenize(text, token='word')\n",
    "# 将文本分割成单词列表\n",
    "\n",
    "vocab = Vocab(words)\n",
    "# 创建词汇表（去重）"
   ]
  },
  {
   "cell_type": "code",
   "execution_count": 43,
   "id": "5de0dc86",
   "metadata": {},
   "outputs": [
    {
     "data": {
      "text/plain": [
       "['project', 'gutenberg']"
      ]
     },
     "execution_count": 43,
     "metadata": {},
     "output_type": "execute_result"
    }
   ],
   "source": [
    "words[:2]"
   ]
  },
  {
   "cell_type": "code",
   "execution_count": 34,
   "id": "1f9f435d-f2d0-4148-b0f5-63c7b83abd00",
   "metadata": {},
   "outputs": [],
   "source": [
    "class CBOW(nn.Module):\n",
    "    def __init__(self, vocab_size, embedding_dim):\n",
    "        super(CBOW, self).__init__()\n",
    "        self.embeddings = nn.Embedding(vocab_size, embedding_dim)\n",
    "        # 创建词嵌入层\n",
    "        self.linear = nn.Linear(embedding_dim, vocab_size)\n",
    "        # 创建线性层，用于将嵌入映射回词汇表大小\n",
    "\n",
    "    def forward(self, inputs):\n",
    "        embeds = self.embeddings(inputs).mean(dim=0)\n",
    "        # 获取输入单词的嵌入并计算平均值\n",
    "        out = self.linear(embeds)\n",
    "        # 通过线性层传递嵌入\n",
    "        log_probs = nn.functional.log_softmax(out, dim=0)\n",
    "        # 应用log softmax函数获取对数概率\n",
    "        return log_probs"
   ]
  },
  {
   "cell_type": "code",
   "execution_count": 36,
   "id": "4bacea0f",
   "metadata": {},
   "outputs": [],
   "source": [
    "def create_cbow_dataset(words, context_size=2):\n",
    "    data = []\n",
    "    for i in range(context_size, len(words) - context_size):\n",
    "        context = [words[i-2], words[i-1], words[i+1], words[i+2]]\n",
    "        # 获取目标词的上下文（前后各两个词）\n",
    "        target = words[i]\n",
    "        # 获取目标词\n",
    "        data.append((context, target))\n",
    "    return data\n",
    "    # 返回(上下文, 目标词)对的列表\n",
    "\n",
    "def train_test_split(data, test_ratio=0.2, random_seed=42):\n",
    "    test_size = int(len(data) * test_ratio)\n",
    "    train_size = len(data) - test_size\n",
    "    np.random.seed(random_seed)\n",
    "    indices = np.random.permutation(len(data))\n",
    "    train_indices = indices[:train_size]\n",
    "    test_indices = indices[train_size:]\n",
    "    train_data = [data[i] for i in train_indices]\n",
    "    test_data = [data[i] for i in test_indices]\n",
    "    return train_data, test_data"
   ]
  },
  {
   "cell_type": "code",
   "execution_count": 44,
   "id": "f1f50857",
   "metadata": {},
   "outputs": [
    {
     "name": "stdout",
     "output_type": "stream",
     "text": [
      "[(['this', 'appeared', 'be', 'devoted'], 'to'), (['i', 'had', 'the', 'antenna'], 'grasped')]\n",
      "[(['the', 'psychologist', 's', 'a'], 'it'), (['own', 'times', 'how', 'wide'], 'and')]\n"
     ]
    }
   ],
   "source": [
    "cbow_dataset = create_cbow_dataset(words)\n",
    "train_data, test_data = train_test_split(cbow_dataset)\n",
    "print(train_data[:2])\n",
    "print(test_data[:2])"
   ]
  },
  {
   "cell_type": "code",
   "execution_count": 47,
   "id": "2f06b583",
   "metadata": {},
   "outputs": [],
   "source": [
    "def train_cbow(model, data, vocab, learning_rate=0.1, num_epochs=100):\n",
    "    loss_function = nn.NLLLoss()\n",
    "    # 定义负对数似然损失函数\n",
    "    optimizer = optim.SGD(model.parameters(), lr=learning_rate)\n",
    "    # 定义随机梯度下降优化器\n",
    "    train_data, test_data = train_test_split(data)\n",
    "    train_losses = []\n",
    "    test_losses = []\n",
    "\n",
    "    for epoch in range(num_epochs):\n",
    "        model.train()\n",
    "        total_loss = 0\n",
    "        for context, target in train_data:\n",
    "            context_idxs = torch.tensor(vocab[context], dtype=torch.long)\n",
    "            # 将上下文单词转换为索引张量\n",
    "            model.zero_grad()\n",
    "            # 清除之前的梯度\n",
    "            log_probs = model(context_idxs)\n",
    "            # 前向传播\n",
    "            loss = loss_function(log_probs.unsqueeze(0), torch.tensor([vocab[target]]))\n",
    "            # 计算损失\n",
    "            loss.backward()\n",
    "            # 反向传播\n",
    "            optimizer.step()\n",
    "            # 更新模型参数\n",
    "            total_loss += loss.item()\n",
    "        train_losses.append(total_loss / len(train_data))\n",
    "\n",
    "        model.eval()\n",
    "        total_test_loss = 0\n",
    "        with torch.no_grad():\n",
    "            for context, target in test_data:\n",
    "                context_idxs = torch.tensor(vocab[context], dtype=torch.long)\n",
    "                log_probs = model(context_idxs)\n",
    "                loss = loss_function(log_probs.unsqueeze(0), torch.tensor([vocab[target]]))\n",
    "                total_test_loss += loss.item()\n",
    "        test_losses.append(total_test_loss / len(test_data))\n",
    "\n",
    "    # 绘制损失曲线\n",
    "    plt.plot(train_losses, label='Train Loss')\n",
    "    plt.plot(test_losses, label='Test Loss')\n",
    "    plt.xlabel('Epoch')\n",
    "    plt.ylabel('Loss')\n",
    "    plt.legend()\n",
    "    plt.show()\n",
    "        \n",
    "    "
   ]
  },
  {
   "cell_type": "code",
   "execution_count": 49,
   "id": "0ca0dbc7",
   "metadata": {},
   "outputs": [
    {
     "data": {
      "image/png": "[encoded data removed]",
      "text/plain": [
       "<Figure size 640x480 with 1 Axes>"
      ]
     },
     "metadata": {},
     "output_type": "display_data"
    },
    {
     "name": "stdout",
     "output_type": "stream",
     "text": [
      "Context: ['the', 'psychologist', 's', 'a']\n",
      "Predicted word: time\n",
      "Target word: it\n",
      "Context: ['own', 'times', 'how', 'wide']\n",
      "Predicted word: time\n",
      "Target word: and\n",
      "Context: ['parting', 'were', 'frantic', 'and']\n",
      "Predicted word: the\n",
      "Target word: sometimes\n",
      "Context: ['find', 'no', 'no', 'appliances']\n",
      "Predicted word: have\n",
      "Target word: machinery\n",
      "Context: ['by', 'the', 'i', 'found']\n",
      "Predicted word: first\n",
      "Target word: door\n",
      "Context: ['the', 'earth', 'fate', 'watching']\n",
      "Predicted word: the\n",
      "Target word: s\n",
      "Context: ['the', 'natural', 'of', 'these']\n",
      "Predicted word: speech\n",
      "Target word: order\n",
      "Context: ['run', 'short', 'they', 'had']\n",
      "Predicted word: could\n",
      "Target word: possibly\n",
      "Context: ['slope', 'i', 'a', 'harsh']\n",
      "Predicted word: and\n",
      "Target word: heard\n",
      "Context: ['perceived', 'that', 'had', 'the']\n",
      "Predicted word: i\n",
      "Target word: all\n"
     ]
    }
   ],
   "source": [
    "CONTEXT_SIZE = 2\n",
    "EMBEDDING_DIM = 10\n",
    "vocab_size = len(vocab)\n",
    "cbow_dataset = create_cbow_dataset(words, CONTEXT_SIZE)\n",
    "train_data, test_data = train_test_split(cbow_dataset)\n",
    "# 创建CBOW数据集\n",
    "\n",
    "model = CBOW(vocab_size, EMBEDDING_DIM)\n",
    "# 初始化CBOW模型\n",
    "\n",
    "\n",
    "def main():\n",
    "    \n",
    "    # 训练模型\n",
    "    train_cbow(model, cbow_dataset, vocab)\n",
    "\n",
    "    # 测试模型\n",
    "    with torch.no_grad():\n",
    "        for context, target in test_data[:10]:\n",
    "            context_idxs = torch.tensor(vocab[context], dtype=torch.long)\n",
    "            log_probs = model(context_idxs)\n",
    "            predicted_word_idx = torch.argmax(log_probs).item()\n",
    "            predicted_word = vocab.to_tokens(predicted_word_idx)\n",
    "            print(f\"Context: {context}\")\n",
    "            print(f\"Predicted word: {predicted_word}\")\n",
    "            print(f\"Target word: {target}\")\n",
    "    \n",
    "\n",
    "if __name__ == \"__main__\":\n",
    "    main()\n",
    "    # 如果直接运行此脚本，执行main函数"
   ]
  }
 ],
 "metadata": {
  "kernelspec": {
   "display_name": "Python 3 (ipykernel)",
   "language": "python",
   "name": "python3"
  },
  "language_info": {
   "codemirror_mode": {
    "name": "ipython",
    "version": 3
   },
   "file_extension": ".py",
   "mimetype": "text/x-python",
   "name": "python",
   "nbconvert_exporter": "python",
   "pygments_lexer": "ipython3",
   "version": "3.12.4"
  }
 },
 "nbformat": 4,
 "nbformat_minor": 5
}
